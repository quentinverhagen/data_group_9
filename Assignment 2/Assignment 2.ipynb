{
 "cells": [
  {
   "cell_type": "code",
   "execution_count": 4,
   "metadata": {},
   "outputs": [],
   "source": [
    "import requests\n",
    "from bs4 import BeautifulSoup\n",
    "\n",
    "URL = \"https://www.amsterdam.nl/verkeer-vervoer/varen-amsterdam/varen-beroepsvaart/register-passagiersvaart-amsterdam/\"\n",
    "page = requests.get(URL)\n",
    "\n",
    "soup = BeautifulSoup(page.content, \"html.parser\")\n",
    "#print(soup.prettify())"
   ]
  },
  {
   "cell_type": "code",
   "execution_count": 5,
   "metadata": {},
   "outputs": [
    {
     "name": "stdout",
     "output_type": "stream",
     "text": [
      "[\"Adam's Boats B.V.\", 'Ambolux Classic Ecoboats', 'Amsterdam Boat Adventures vof', 'Amsterdam Boat Center', 'Amsterdam Boat Center', 'Amsterdam Boat Center', 'Amsterdam Boat Company B.V.', 'Amsterdam Boat Company B.V.', 'Amsterdam Boat Events', 'Amsterdam Boattrips', 'Amsterdam Boothuur B.V.', 'Amsterdam Boothuur B.V.', 'Amsterdam Boothuur B.V.', 'Amsterdam Jewel Cruises', 'Amsterdam Sloep Huur', 'Amsterdamse Rondvaart Maatschappij', 'Amsterdamse Rondvaart Maatschappij', 'Amsterdamse Salonboot Rederij B.V.', 'Arviro B.V.', 'Atropa Belladonna B.V.', 'B.V. Algemene Amsterdamse Rederij Noord-Zuid', 'B.V. Algemene Amsterdamse Rederij Noord-Zuid', 'B.V. Algemene Amsterdamse Rederij Noord-Zuid', 'B.V. Algemene Amsterdamse Rederij Noord-Zuid', 'B.V. Algemene Amsterdamse Rederij Noord-Zuid', 'B.V. Algemene Amsterdamse Rederij Noord-Zuid', 'B.V. Algemene Amsterdamse Rederij Noord-Zuid', 'B.V. Algemene Amsterdamse Rederij Noord-Zuid', 'B.V. Algemene Amsterdamse Rederij Noord-Zuid', 'B.V. Algemene Amsterdamse Rederij Noord-Zuid', 'Bart Boat B.V.', 'Big Boats B.V.', 'Boat Tours Amsterdam', 'Boatboys', 'Boatlife Amsterdam C.V.', 'Boatlife Amsterdam C.V.', 'BoatNow B.V.', 'BoatNow B.V.', 'Boaty B.V.', 'Boaty B.V.', 'Boaty B.V.', 'Boaty B.V.', 'Boot2go B.V', 'Boot2go B.V', 'Boot2go B.V', 'Boot2go B.V', 'Boot2go B.V', 'Boot2go B.V', 'Boot2go B.V', 'Bootverhuur Amsterdam', 'Canal Bus B.V.', 'Canal Bus B.V.', 'Canal Bus B.V.', 'Canal Motorboats B.V.', 'Canal Motorboats B.V.', 'Canal Motorboats B.V.', 'Canal Rondvaart B.V.', 'Canal Rondvaart B.V.', 'Canal Rondvaart B.V.', 'Canal Rondvaart B.V.', 'Canal Rondvaart B.V.', 'Canal Rondvaart B.V.', 'Canal Rondvaart B.V.', 'Canal Rondvaart B.V.', 'Canal Rondvaart B.V.', 'Canal Rondvaart B.V.', 'Canal Rondvaart B.V.', 'Canal Rondvaart B.V.', 'Canal Rondvaart B.V.', 'De Kleijn Amsterdam B.V.', 'De Muze B.V.', 'De Wolfsburght B.V.', 'De Wolfsburght B.V.', 'De Wolfsburght B.V.', 'DEMI Trading B.V.', 'DEMI Trading B.V.', 'DEMI Trading B.V.', 'DEMI Trading B.V.', 'Dobber Amsterdam Canal Cruises B.V.', 'Dobber Amsterdam Canal Cruises B.V.', 'Dobber Amsterdam Canal Cruises B.V.', 'Dobber Amsterdam Canal Cruises B.V.', 'Dobber Amsterdam Canal Cruises B.V.', 'Dobber Amsterdam Canal Cruises B.V.', 'E-Boats', 'E-Boats', 'E-Boats', 'Eco Boats Amsterdam', 'Eco Boats Amsterdam', 'Edumar Vaaropleidingen B.V.', 'Edutech B.V.', 'Edutech B.V.', 'Electric Boats B.V.', 'Electric Boats B.V.', 'Electric Tours B.V.', 'Electric Tours B.V.', 'Elektrohaven', 'Elektrohaven', 'Elektrohaven', 'Elektrohaven', 'Elektrohaven', 'Flagship Holding B.V.', 'Flagship Holding B.V.', 'Flagship Holding B.V.', 'Flagship Holding B.V.', 'Flagship Holding B.V.', 'Flagship Holding B.V.', 'Flagship Holding B.V.', 'Flagship Holding B.V.', 'Flagship Holding B.V.', 'Flagship Holding B.V.', 'Flagship Holding B.V.', 'Flagship Holding B.V.', 'Flagship Holding B.V.', 'Flagship Holding B.V.', 'Flagship Holding B.V.', 'Flagship Holding B.V.', 'Flagship Holding B.V.', 'Flagship Holding B.V.', 'Flagship Holding B.V.', 'Flagship Holding B.V.', 'Flagship Holding B.V.', 'Flagship Holding B.V.', 'Flagship Holding B.V.', 'Flagship Holding B.V.', 'Flagship Holding B.V.', 'Flagship Holding B.V.', 'Flagship Holding B.V.', 'Flagship Holding B.V.', 'Flagship Holding B.V.', 'Flagship Holding B.V.', 'Flagship Holding B.V.', 'Flagship Holding B.V.', 'Flagship Holding B.V.', 'Flagship Holding B.V.', 'Flagship Holding B.V.', 'Flagship Holding B.V.', 'Flagship Holding B.V.', 'Flagship Holding B.V.', 'Flagship Holding B.V.', 'Flagship Holding B.V.', 'Flagship Holding B.V.', 'Flagship Holding B.V.', 'Flagship Holding B.V.', 'Flagship Holding B.V.', 'Floating Amsterdam B.V.', 'Floating Amsterdam B.V.', 'Floating Amsterdam B.V.', 'Fun Boat Amsterdam', 'Holy Boat B.V.', 'Holy Boat B.V.', 'Holy Boat B.V.', 'I. Bruné Classic Ship Service', 'I. Bruné Classic Ship Service', \"Kennedy's B.V.\", 'Lazy Jack B.V.', 'Leemstar', 'Leemstar', 'Leemstar', 'Leemstar', 'Leemstar', 'Leemstar', 'Meijer Maritime Services', 'Meijers Rondvaarten B.V.', 'Meijers Rondvaarten B.V.', 'Meijers Rondvaarten B.V.', 'Meijers Rondvaarten B.V.', 'Meijers Rondvaarten B.V.', 'Meijers Rondvaarten B.V.', 'Mokumboot B.V.', 'Mokumboot B.V.', 'Mokumboot B.V.', 'Mokumboot B.V.', 'Mokumboot B.V.', 'Mokumboot B.V.', 'Mokumboot B.V.', 'Mokumboot B.V.', 'Mokumboot B.V.', 'Mokumboot B.V.', 'MS \"Koophandel II\"', 'Navarini B.V.', 'Paradis Private Boat Tours B.V.', 'Paradis Private Boat Tours B.V.', 'Paradis Private Boat Tours B.V.', 'Paradis Private Boat Tours B.V.', 'Paradis Private Boat Tours B.V.', 'PK Waterbouw B.V.', 'Plastic Whale B.V.', 'Pure Boats B.V.', 'Pure Boats B.V.', 'Pure Boats B.V.', 'Pure Boats B.V.', 'Rederij Aemstelland B.V.', 'Rederij Aemstelland B.V.', 'Rederij Aemstelredamme B.V.', 'Rederij Amsterdam B.V.', 'Rederij Amsterdam B.V.', 'Rederij Amsterdam B.V.', 'Rederij Amsterdam B.V.', 'Rederij Amsterdam B.V.', 'Rederij Amsterdam B.V.', 'Rederij Belle B.V.', 'Rederij De Jordaan', 'Rederij De Jordaan', 'Rederij de Nederlanden B.V.', 'Rederij de Nederlanden B.V.', 'Rederij de Nederlanden B.V.', 'Rederij de Nederlanden B.V.', 'Rederij de Wester', 'Rederij E.E. Plas B.V.', 'Rederij E.E. Plas B.V.', 'Rederij E.E. Plas B.V.', 'Rederij E.E. Plas B.V.', 'Rederij E.E. Plas B.V.', 'Rederij E.E. Plas B.V.', 'Rederij E.E. Plas B.V.', 'Rederij E.E. Plas B.V.', 'Rederij E.E. Plas B.V.', 'Rederij Friendship B.V.', 'Rederij Friendship B.V.', 'Rederij Friendship B.V.', 'Rederij Friendship B.V.', 'Rederij Friendship B.V.', 'Rederij Friendship B.V.', 'Rederij Lovers B.V.', 'Rederij Lovers B.V.', 'Rederij Lovers B.V.', 'Rederij Lovers B.V.', 'Rederij Lovers B.V.', 'Rederij Lovers B.V.', 'Rederij Lovers B.V.', 'Rederij Lovers B.V.', 'Rederij Lovers B.V.', 'Rederij Lovers B.V.', 'Rederij Lovers B.V.', 'Rederij Lovers B.V.', 'Rederij Lovers B.V.', 'Rederij Lovers B.V.', 'Rederij Lovers B.V.', 'Rederij Lovers B.V.', 'Rederij Lovers B.V.', 'Rederij Lovers B.V.', 'Rederij Lovers B.V.', 'Rederij Lovers B.V.', 'Rederij Lovers B.V.', 'Rederij Lovers B.V.', 'Rederij Lovers B.V.', 'Rederij Lovers B.V.', 'Rederij Lovers B.V.', 'Rederij Lovers B.V.', 'Rederij Lovers B.V.', 'Rederij Lovers B.V.', 'Rederij Lovers B.V.', 'Rederij Lovers B.V.', 'Rederij Lovers B.V.', 'Rederij Lovers B.V.', 'Rederij Lovers B.V.', 'Rederij Lovers B.V.', 'Rederij Lovers B.V.', 'Rederij Lovers B.V.', 'Rederij Nassau B.V.', 'Rederij Nassau B.V.', 'Rederij Nassau B.V.', 'Rederij Nassau B.V.', 'Rederij Nassau B.V.', 'Rederij Nassau B.V.', 'Rederij P. Kooy B.V.', 'Rederij P. Kooy B.V.', 'Rederij P. Kooy B.V.', 'Rederij P. Kooy B.V.', 'Rederij P. Kooy B.V.', 'Rederij P. Kooy B.V.', 'Rederij P. Kooy B.V.', 'Rederij P. Kooy B.V.', 'Rederij P. Kooy B.V.', 'Rederij P. Kooy B.V.', 'Rederij P. Kooy B.V.', 'Rederij P. Kooy B.V.', 'Rederij P. Kooy B.V.', 'Rederij P. Kooy B.V.', 'Rederij P. Kooy B.V.', 'Rederij P. Kooy B.V.', 'Rederij P. Kooy B.V.', 'Rederij P. Kooy B.V.', 'Rederij P. Kooy B.V.', 'Rederij P. Kooy B.V.', 'Rederij P. Kooy B.V.', 'Rederij Paping', 'Rederij Paping', 'Rederij van Egmond', 'Rederij Vlaun', 'Rederij Voogd B.V.', 'Rock That Boat', 'Sailtye', 'Sailtye', 'Salonboot Adeline B.V.', 'Salonboot Belle van Zuylen B.V.', 'Salonboot Dame van Amstel B.V.', 'Salonboot Hilda', 'Salonboot Soeverein B.V.', 'Salonboot Valentijn B.V.', 'Sinta B.V.', 'Sinta B.V.', 'Sloepdelen B.V.', 'Sloepdelen B.V.', 'Sloepdelen B.V.', 'Sloepvrienden', 'Sloepvrienden', 'Sloepvrienden', 'Sloepvrienden', 'Smidtje Beheer B.V.', 'Smidtje Beheer B.V.', 'Smidtje Beheer B.V.', 'Smidtje Beheer B.V.', 'Smidtje Beheer B.V.', 'Smidtje Beheer B.V.', 'Smidtje Beheer B.V.', 'Smidtje Beheer B.V.', 'Smidtje Beheer B.V.', 'Smidtje Beheer B.V.', 'Smidtje Beheer B.V.', 'Smidtje Beheer B.V.', 'Smidtje Beheer B.V.', 'Smidtje Exploitatie B.V.', 'Smidtje Exploitatie B.V.', 'Smidtje Exploitatie B.V.', 'Smidtje Exploitatie B.V.', 'Smidtje Exploitatie B.V.', 'Smidtje Exploitatie B.V.', 'Smidtje Exploitatie B.V.', 'Smidtje Exploitatie B.V.', 'Smidtje Exploitatie B.V.', 'Smidtje Holding B.V.', 'Starboard Boats B.V.', 'Starboard Boats B.V.', 'Starboard Boats B.V.', 'Starboard Boats B.V.', 'Starboard Boats B.V.', 'Stichting “de Kalefater”', 'Stichting “de Kalefater”', 'Stichting Behoud Salonboot Avanti', 'Stichting Maritieme Zaken', 'Stichting Motorschip Jonckvrouw', 'Stichting Plastic Whale', 'Stromma Nederland B.V.', 'Stromma Nederland B.V.', 'Stromma Nederland B.V.', 'Stromma Nederland B.V.', 'Stromma Nederland B.V.', 'Stromma Nederland B.V.', 'Stromma Nederland B.V.', 'Stromma Nederland B.V.', 'Stromma Nederland B.V.', 'Stromma Nederland B.V.', 'Stromma Nederland B.V.', 'Stromma Nederland B.V.', 'Stromma Nederland B.V.', 'Stromma Nederland B.V.', 'Stromma Nederland B.V.', 'Stromma Nederland B.V.', 'Stromma Nederland B.V.', 'Stromma Nederland B.V.', 'Stromma Nederland B.V.', 'Stromma Nederland B.V.', 'Stromma Nederland B.V.', 'Stromma Nederland B.V.', 'Stromma Nederland B.V.', 'Stromma Nederland B.V.', 'Stromma Nederland B.V.', 'Those Dam Boat Guys', 'Those Dam Boat Guys', 'Those Dam Boat Guys', 'Those Dam Boat Guys', 'Those Dam Boat Guys', 'Tulpa Tours B.V.', 'Tulpa Tours B.V.', 'Tulpa Tours B.V.', 'Van Hulst Registergoederen B.V.', 'Van Hulst Registergoederen B.V.', 'Van Hulst Registergoederen B.V.', 'Canal Company B.V.']\n"
     ]
    }
   ],
   "source": [
    "l1 = []\n",
    "l2 = []\n",
    "for td_tag in soup.find_all('td'):\n",
    "    l1.append(td_tag.text) \n",
    "x = 0\n",
    "count = 1\n",
    "operators = []\n",
    "for i in l1:\n",
    "    if x%7 == 0:\n",
    "        operators.append(i)\n",
    "        l2.append(count)\n",
    "        count = count + 1\n",
    "    x = x + 1 \n",
    "\n",
    "\n",
    "x = 0\n",
    "naam = []\n",
    "for i in l1:\n",
    "    if x%7 == 1:\n",
    "        #print (x, i)\n",
    "        naam.append(i)\n",
    "    x = x + 1 \n",
    "\n",
    "x = 0\n",
    "aantal = []\n",
    "for i in l1:\n",
    "    if x%7 == 2:\n",
    "        #print (x, i)\n",
    "        aantal.append(i)\n",
    "    x = x + 1 \n",
    "\n",
    "x = 0\n",
    "aantalgebruik = []\n",
    "for i in l1:\n",
    "    if x%7 == 3:\n",
    "        #print (x, i)\n",
    "        aantalgebruik.append(i)\n",
    "    x = x + 1 \n",
    "\n",
    "x = 0\n",
    "segment = []\n",
    "for i in l1:\n",
    "    if x%7 == 4:\n",
    "        #print (x, i)\n",
    "        segment.append(i)\n",
    "    x = x + 1 \n",
    "\n",
    "x = 0\n",
    "einddatum = []\n",
    "for i in l1:\n",
    "    if x%7 == 5:\n",
    "        #print (x, i)\n",
    "        einddatum.append(i)\n",
    "    x = x + 1 \n",
    "\n",
    "x = 0\n",
    "gebied = []\n",
    "for i in l1:\n",
    "    if x%7 == 6:\n",
    "        #print (x, i)\n",
    "        gebied.append(i)\n",
    "    x = x + 1 \n",
    "\n",
    "print(operators)\n",
    "#print(naam)\n",
    "#print(aantal)\n",
    "#print(aantalgebruik)\n",
    "#print(segment)\n",
    "#print(einddatum)\n",
    "#print(gebied)\n",
    "\n",
    "\n",
    "     #group = dict() group['number'] = 1 #elements = dict() #elements['Aantal'] = mylist[1] #elements['Aantal_ingebruik'] = mylist[2] #elements['segment'] = mylist[3] #elements['einddatum'] = mylist[4] #elements['gebied'] = mylist[5] #operators = dict() #operators[mylist[0]] = elements #group[1] = operators #print(group) #print(mylist) elements = dict() x = 1 for i in mylist: elements['Aantal'] = mylist[x] x = x+1 elements['Aantal_ingebruik'] = mylist[x] x = x+1 elements['segment'] = mylist[x] x = x+1 elements['einddatum'] = mylist[x] x = x+1 elements['gebied'] = mylist[x] print(elements)"
   ]
  },
  {
   "cell_type": "code",
   "execution_count": 6,
   "metadata": {},
   "outputs": [
    {
     "name": "stdout",
     "output_type": "stream",
     "text": [
      "{1: (\"Adam's Boats B.V.\", 'Adam 01 t/m Adam 10', '10', '10', 'onbemand', '1 maart 2026', '1'), 2: ('Ambolux Classic Ecoboats', 'Ambolux 3', '1', '1', 'bemand open', '1 maart 2030', '1'), 3: ('Amsterdam Boat Adventures vof', 'Amsterdam Boat Adventures', '1', '1', 'bemand open', '1 maart 2028', '1'), 4: ('Amsterdam Boat Center', 'Amigo', '1', '1', 'bemand open', '1 maart 2024', '1'), 5: ('Amsterdam Boat Center', 'Salonboot Tzar', '1', '1', 'bemand open', '1 maart 2028', '1'), 6: ('Amsterdam Boat Center', 'Wan-Hoop', '1', '1', 'klein & middelgroot', '1 maart 2028', '1'), 7: ('Amsterdam Boat Company B.V.', 'Mosi Jo', '1', '1', 'klein & middelgroot', '1 maart 2030', '1'), 8: ('Amsterdam Boat Company B.V.', 'Zaza', '1', '0', 'klein & middelgroot', '1 maart 2028', '1'), 9: ('Amsterdam Boat Events', \"De Tijd zal 't Leeren\", '1', '1', 'bemand groot', '1 maart 2028', '1'), 10: ('Amsterdam Boattrips', 'Britannia 2', '1', '1', 'bemand open', '1 maart 2026', '1'), 11: ('Amsterdam Boothuur B.V.', 'Blue Sky Boat', '1', '1', 'bemand open', '1 maart 2024', '2'), 12: ('Amsterdam Boothuur B.V.', 'Marijn Joris', '1', '1', 'bemand open', '1 maart 2028', '2'), 13: ('Amsterdam Boothuur B.V.', 'Willy', '1', '1', 'bemand open', '1 maart 2026', '1'), 14: ('Amsterdam Jewel Cruises', 'Henry Schmitz', '1', '1', 'bemand groot', '1 maart 2028', '1'), 15: ('Amsterdam Sloep Huur', 'Ivan Frank', '1', '1', 'bemand open', '1 maart 2024', '1'), 16: ('Amsterdamse Rondvaart Maatschappij', 'Marjet', '1', '1', 'bemand open', '1 maart 2030', '1'), 17: ('Amsterdamse Rondvaart Maatschappij', 'Valerie', '1', '1', 'bemand gesloten', '1 maart 2030', '1'), 18: ('Amsterdamse Salonboot Rederij B.V.', 'Jean Schmitz', '1', '1', 'bemand groot', '1 maart 2026', '1'), 19: ('Arviro B.V.', 'Drift Away', '1', '1', 'bemand gesloten', '1 maart 2024', '1'), 20: ('Atropa Belladonna B.V.', 'The Lounge', '1', '1', 'bemand gesloten', '1 maart 2026', '1'), 21: ('B.V. Algemene Amsterdamse Rederij Noord-Zuid', 'Amstel Glory', '1', '1', 'bemand groot', '1 maart 2024', '1'), 22: ('B.V. Algemene Amsterdamse Rederij Noord-Zuid', 'Barlaeus', '1', '1', 'bemand groot', '1 maart 2030', '1'), 23: ('B.V. Algemene Amsterdamse Rederij Noord-Zuid', 'Byzantium', '1', '1', 'bemand groot', '1 maart 2028', '1'), 24: ('B.V. Algemene Amsterdamse Rederij Noord-Zuid', 'City of Amsterdam', '1', '1', 'bemand groot', '1 maart 2028', '1'), 25: ('B.V. Algemene Amsterdamse Rederij Noord-Zuid', 'Flying Dutchman', '1', '1', 'bemand groot', '1 maart 2024', '1'), 26: ('B.V. Algemene Amsterdamse Rederij Noord-Zuid', 'Lido', '1', '1', 'bemand groot', '1 maart 2026', '1'), 27: ('B.V. Algemene Amsterdamse Rederij Noord-Zuid', 'Michael Faraday', '1', '1', 'bemand gesloten', '1 maart 2030', '1'), 28: ('B.V. Algemene Amsterdamse Rederij Noord-Zuid', 'Paradiso', '1', '1', 'bemand groot', '1 maart 2026', '1'), 29: ('B.V. Algemene Amsterdamse Rederij Noord-Zuid', 'Thomas Edison', '1', '1', 'bemand gesloten', '1 maart 2030', '1'), 30: ('B.V. Algemene Amsterdamse Rederij Noord-Zuid', 'Vossius', '1', '1', 'bemand groot', '1 maart 2030', '1'), 31: ('Bart Boat B.V.', 'Hoop op behoud', '1', '1', 'bemand groot', '1 maart 2024', '1'), 32: ('Big Boats B.V.', 'Anne Frank', '1', '1', 'bemand groot', '1 maart 2024', '1'), 33: ('Boat Tours Amsterdam', 'Wave', '1', '1', 'bemand open', '1 maart 2026', '1'), 34: ('Boatboys', 'Undine', '1', '1', 'bemand open', '1 maart 2030', '1'), 35: ('Boatlife Amsterdam C.V.', 'Aagje Deken', '1', '1', 'bemand gesloten', '1 maart 2024', '1'), 36: ('Boatlife Amsterdam C.V.', 'Para Todos', '1', '1', 'klein & middelgroot', '12 april 2031', '1'), 37: ('BoatNow B.V.', 'Anna', '1', '1', 'klein & middelgroot', '1 maart 2024', '1'), 38: ('BoatNow B.V.', 'Lautta', '1', '1', 'klein & middelgroot', '1 maart 2030', '1'), 39: ('Boaty B.V.', 'Fluisterboten', '10', '10', 'onbemand', '1 maart 2024', '1'), 40: ('Boaty B.V.', 'Fluisterboten', '10', '10', 'onbemand', '1 maart 2026', '1'), 41: ('Boaty B.V.', 'Fluisterboten', '10', '10', 'onbemand', '1 maart 2028', '1'), 42: ('Boaty B.V.', 'Solarboaty', '10', '10', 'onbemand', '1 maart 2024', '1'), 43: ('Boot2go B.V', 'Booking.com', '1', '1', 'bemand open', '1 maart 2028', '1'), 44: ('Boot2go B.V', 'Gangster', '1', '1', 'bemand open', '1 maart 2024', '1'), 45: ('Boot2go B.V', 'IJdok 1', '1', '1', 'bemand open', '1 maart 2026', '1'), 46: ('Boot2go B.V', 'Jochie', '1', '1', 'bemand open', '1 maart 2030', '1'), 47: ('Boot2go B.V', 'Ouwe', '1', '1', 'bemand open', '1 maart 2030', '1'), 48: ('Boot2go B.V', 'Shiner', '1', '1', 'bemand open', '1 maart 2026', '1'), 49: ('Boot2go B.V', 'The Dream', '1', '0', 'klein & middelgroot', '1 maart 2026', '1'), 50: ('Bootverhuur Amsterdam', 'YB II', '1', '1', 'bemand open', '1 maart 2024', '1'), 51: ('Canal Bus B.V.', 'Albert Cuyp', '1', '1', 'bemand groot', '1 maart 2028', '1'), 52: ('Canal Bus B.V.', 'J. Vermeer', '1', '1', 'bemand groot', '1 maart 2028', '1'), 53: ('Canal Bus B.V.', 'P.J.H. Cuypers', '1', '1', 'bemand open', '1 maart 2026', '1'), 54: ('Canal Motorboats B.V.', 'Fluisterboten', '10', '10', 'onbemand', '1 maart 2026', '1'), 55: ('Canal Motorboats B.V.', 'Fluisterboten', '10', '10', 'onbemand', '1 maart 2028', '1'), 56: ('Canal Motorboats B.V.', 'Fluisterboten', '10', '10', 'onbemand', '1 maart 2024', '1'), 57: ('Canal Rondvaart B.V.', 'Abel Tasman', '1', '1', 'bemand groot', '1 maart 2024', '1'), 58: ('Canal Rondvaart B.V.', 'Aert van Nes', '1', '1', 'bemand groot', '1 maart 2024', '1'), 59: ('Canal Rondvaart B.V.', 'Anton Dreesman', '1', '1', 'bemand groot', '1 maart 2030', '1'), 60: ('Canal Rondvaart B.V.', 'Dr. Albert Heijn', '1', '1', 'bemand groot', '1 maart 2030', '1'), 61: ('Canal Rondvaart B.V.', 'Henry Hudson', '1', '1', 'bemand groot', '1 maart 2024', '1'), 62: ('Canal Rondvaart B.V.', 'Horatio Nelson', '1', '1', 'bemand groot', '1 maart 2024', '1'), 63: ('Canal Rondvaart B.V.', 'Ir. Frits Fentener van Vlissingen', '1', '1', 'bemand groot', '1 maart 2028', '1'), 64: ('Canal Rondvaart B.V.', 'Jan van Riebeeck', '1', '1', 'bemand groot', '1 maart 2024', '1'), 65: ('Canal Rondvaart B.V.', 'Michiel de Ruyter', '1', '1', 'bemand groot', '1 maart 2026', '1'), 66: ('Canal Rondvaart B.V.', 'Olivier van Noort', '1', '1', 'bemand groot', '1 maart 2026', '1'), 67: ('Canal Rondvaart B.V.', 'Pieter Heijn I', '1', '1', 'bemand groot', '1 maart 2030', '1'), 68: ('Canal Rondvaart B.V.', 'Pieter Heijn II', '1', '1', 'bemand groot', '1 maart 2030', '1'), 69: ('Canal Rondvaart B.V.', 'Pieter Heijn III', '1', '1', 'bemand groot', '1 maart 2030', '1'), 70: ('De Kleijn Amsterdam B.V.', 'Kleijn Amsterdam', '1', '1', 'bemand gesloten', '1 maart 2024', '1'), 71: ('De Muze B.V.', 'De Muze', '1', '1', 'bemand gesloten', '1 maart 2028', '1'), 72: ('De Wolfsburght B.V.', 'La Reine', '1', '1', 'bemand gesloten', '1 maart 2028', '1'), 73: ('De Wolfsburght B.V.', 'Libelle', '1', '1', 'bemand groot', '1 maart 2024', '1'), 74: ('De Wolfsburght B.V.', \"Prix d'Eau\", '1', '1', 'bemand gesloten', '1 maart 2028', '1'), 75: ('DEMI Trading B.V.', 'Bad Boat', '1', '1', 'bemand open', '1 maart 2026', '2'), 76: ('DEMI Trading B.V.', 'Boozzer', '1', '1', 'bemand open', '1 maart 2024', '1'), 77: ('DEMI Trading B.V.', 'Royalty', '1', '1', 'bemand open', '1 maart 2028', '1'), 78: ('DEMI Trading B.V.', 'Saloonsloep', '1', '1', 'bemand gesloten', '1 maart 2028', '1'), 79: ('Dobber Amsterdam Canal Cruises B.V.', 'Amstel Aquamarijn', '1', '1', 'bemand groot', '1 maart 2030', '1'), 80: ('Dobber Amsterdam Canal Cruises B.V.', 'Amstel Diamant', '1', '1', 'bemand groot', '1 maart 2026', '1'), 81: ('Dobber Amsterdam Canal Cruises B.V.', 'Amstel Jade', '1', '1', 'bemand groot', '1 maart 2028', '1'), 82: ('Dobber Amsterdam Canal Cruises B.V.', 'Amstel Robijn', '1', '1', 'bemand groot', '1 maart 2028', '1'), 83: ('Dobber Amsterdam Canal Cruises B.V.', 'Amstel Saffier', '1', '1', 'bemand groot', '1 maart 2024', '1'), 84: ('Dobber Amsterdam Canal Cruises B.V.', 'Amstel Smaragd', '1', '1', 'bemand groot', '1 maart 2026', '1'), 85: ('E-Boats', 'Admiraal Heijn', '1', '0', 'bemand gesloten', '1 maart 2030', '1'), 86: ('E-Boats', 'Pax', '1', '1', 'bemand groot', '1 maart 2030', '1'), 87: ('E-Boats', 'Zonneboot 5', '1', '0', 'bemand gesloten', '1 maart 2028', '1'), 88: ('Eco Boats Amsterdam', 'Boot I t/m X', '10', '10', 'onbemand', '1 maart 2028', '1'), 89: ('Eco Boats Amsterdam', 'Ecoboats', '10', '10', 'onbemand', '1 maart 2028', '1'), 90: ('Edumar Vaaropleidingen B.V.', 'Ilje', '1', '1', 'bemand gesloten', '1 maart 2026', '1'), 91: ('Edutech B.V.', 'Staets 1', '1', '1', 'bemand groot', '1 maart 2026', '1'), 92: ('Edutech B.V.', 'Staets 2', '1', '1', 'bemand groot', '1 maart 2028', '1'), 93: ('Electric Boats B.V.', 'Blop', '1', '1', 'bemand open', '1 maart 2024', '1'), 94: ('Electric Boats B.V.', 'The Club', '1', '1', 'bemand groot', '1 maart 2028', '1'), 95: ('Electric Tours B.V.', 'King', '1', '1', 'bemand open', '1 maart 2028', '1'), 96: ('Electric Tours B.V.', 'Queen', '1', '1', 'bemand open', '1 maart 2026', '1'), 97: ('Elektrohaven', 'Apollo', '1', '1', 'bemand open', '1 maart 2024', '1'), 98: ('Elektrohaven', 'Blue Ocean', '1', '1', 'bemand open', '1 maart 2028', '1'), 99: ('Elektrohaven', 'Johnny Kraaijkamp', '1', '1', 'bemand open', '1 maart 2030', '1'), 100: ('Elektrohaven', 'Radius', '1', '1', 'bemand open', '1 maart 2026', '1'), 101: ('Elektrohaven', 'Shipdock', '1', '1', 'bemand gesloten', '1 maart 2026', '1'), 102: ('Flagship Holding B.V.', 'Agatha', '1', '1', 'bemand gesloten', '1 maart 2026', '1'), 103: ('Flagship Holding B.V.', 'Anne Bonney', '1', '1', 'bemand open', '1 maart 2024', '1'), 104: ('Flagship Holding B.V.', 'Apsara', '1', '1', 'bemand open', '1 maart 2028', '1'), 105: ('Flagship Holding B.V.', 'Atlantis', '1', '1', 'klein & middelgroot', '1 maart 2030', '1'), 106: ('Flagship Holding B.V.', 'Barracuda', '1', '1', 'bemand open', '1 maart 2028', '1'), 107: ('Flagship Holding B.V.', 'Bartolotti', '1', '1', 'bemand gesloten', '1 maart 2030', '1'), 108: ('Flagship Holding B.V.', 'Creusen 1', '1', '1', 'bemand open', '1 maart 2030', '1'), 109: ('Flagship Holding B.V.', 'Dutchman', '1', '1', 'bemand open', '1 maart 2026', '1'), 110: ('Flagship Holding B.V.', 'Eve', '1', '1', 'bemand open', '1 maart 2028', '1'), 111: ('Flagship Holding B.V.', 'Eveline', '1', '1', 'bemand groot', '1 maart 2028', '1'), 112: ('Flagship Holding B.V.', 'Fayén', '1', '1', 'bemand open', '1 maart 2030', '1'), 113: ('Flagship Holding B.V.', 'Flagship', '1', '1', 'bemand open', '1 maart 2030', '1'), 114: ('Flagship Holding B.V.', 'Fleur', '1', '1', 'bemand open', '1 maart 2024', '1'), 115: ('Flagship Holding B.V.', 'Freewilly', '1', '1', 'bemand open', '1 maart 2028', '1'), 116: ('Flagship Holding B.V.', 'Gast', '1', '1', 'bemand open', '1 maart 2026', '1'), 117: ('Flagship Holding B.V.', 'Green Marine', '1', '1', 'bemand open', '1 maart 2028', '1'), 118: ('Flagship Holding B.V.', 'Griffioen', '1', '1', 'bemand gesloten', '1 maart 2024', '1'), 119: ('Flagship Holding B.V.', 'Harry Slinger', '1', '1', 'bemand open', '1 maart 2028', '1'), 120: ('Flagship Holding B.V.', 'Herman Brood', '1', '1', 'bemand open', '1 maart 2026', '1'), 121: ('Flagship Holding B.V.', 'Iris', '1', '1', 'bemand groot', '1 maart 2024', '1'), 122: ('Flagship Holding B.V.', 'Jan van de Heijden', '1', '1', 'bemand open', '1 maart 2030', '1'), 123: ('Flagship Holding B.V.', 'Koning', '1', '1', 'bemand open', '1 maart 2026', '1'), 124: ('Flagship Holding B.V.', 'Lucky Stripper', '1', '1', 'bemand open', '1 maart 2030', '1'), 125: ('Flagship Holding B.V.', 'Mana', '1', '1', 'bemand open', '1 maart 2030', '1'), 126: ('Flagship Holding B.V.', 'Manhattan', '1', '1', 'bemand open', '1 maart 2024', '1'), 127: ('Flagship Holding B.V.', 'Meike', '1', '1', 'klein & middelgroot', '1 maart 2024', '1'), 128: ('Flagship Holding B.V.', 'Naut', '1', '1', 'bemand open', '1 maart 2030', '1'), 129: ('Flagship Holding B.V.', 'Nomag', '1', '1', 'bemand open', '1 maart 2030', '1'), 130: ('Flagship Holding B.V.', 'Papi', '1', '1', 'bemand open', '1 maart 2028', '1'), 131: ('Flagship Holding B.V.', 'Pierre Cuyper', '1', '1', 'bemand open', '1 maart 2030', '1'), 132: ('Flagship Holding B.V.', 'Ramses Shaffy', '1', '1', 'bemand gesloten', '1 maart 2028', '1'), 133: ('Flagship Holding B.V.', 'Roos', '1', '1', 'bemand groot', '1 maart 2030', '1'), 134: ('Flagship Holding B.V.', 'Rosalie', '1', '1', 'bemand open', '1 maart 2024', '1'), 135: ('Flagship Holding B.V.', 'Rose', '1', '1', 'bemand gesloten', '1 maart 2028', '1'), 136: ('Flagship Holding B.V.', 'Russian Star', '1', '1', 'bemand open', '1 maart 2028', '1'), 137: ('Flagship Holding B.V.', 'Stella Maris', '1', '1', 'bemand gesloten', '1 maart 2026', '1'), 138: ('Flagship Holding B.V.', 'Swaen', '1', '1', 'bemand groot', '1 maart 2026', '1'), 139: ('Flagship Holding B.V.', 'The Dude', '1', '1', 'bemand open', '1 maart 2024', '1'), 140: ('Flagship Holding B.V.', 'Theo Kok', '1', '1', 'bemand gesloten', '1 maart 2026', '1'), 141: ('Flagship Holding B.V.', 'Titanic', '1', '1', 'bemand groot', '1 maart 2030', '1'), 142: ('Flagship Holding B.V.', 'Vibe', '1', '1', 'bemand open', '1 maart 2028', '1'), 143: ('Flagship Holding B.V.', 'Vörding', '1', '1', 'bemand open', '1 maart 2028', '1'), 144: ('Flagship Holding B.V.', 'Wolk', '1', '1', 'bemand groot', '1 maart 2026', '1'), 145: ('Flagship Holding B.V.', 'Zahra', '1', '1', 'bemand open', '1 maart 2024', '1'), 146: ('Floating Amsterdam B.V.', 'Fadam 1', '1', '1', 'bemand open', '1 maart 2026', '1'), 147: ('Floating Amsterdam B.V.', 'Fadam 2', '1', '1', 'bemand open', '1 maart 2028', '1'), 148: ('Floating Amsterdam B.V.', 'Fadam 3', '1', '1', 'bemand open', '1 maart 2026', '1'), 149: ('Fun Boat Amsterdam', 'Roos', '1', '1', 'bemand open', '1 maart 2028', '1'), 150: ('Holy Boat B.V.', 'Holy Boat', '1', '1', 'bemand open', '1 maart 2030', '1'), 151: ('Holy Boat B.V.', 'Nirvana', '1', '1', 'klein & middelgroot', '1 maart 2028', '1'), 152: ('Holy Boat B.V.', 'Suzanne', '1', '1', 'bemand open', '1 maart 2026', '1'), 153: ('I. Bruné Classic Ship Service', 'Belle', '1', '1', 'bemand open', '1 maart 2024', '1'), 154: ('I. Bruné Classic Ship Service', 'Tourist', '1', '1', 'bemand gesloten', '1 maart 2026', '1'), 155: (\"Kennedy's B.V.\", 'Dirk van Os', '1', '1', 'bemand open', 'n.v.t.', '2'), 156: ('Lazy Jack B.V.', 'Delphine', '1', '1', 'bemand open', '1 maart 2028', '1'), 157: ('Leemstar', 'Amsterdam Discovery 1', '1', '1', 'bemand open', '1 maart 2026', '1'), 158: ('Leemstar', 'Amsterdam Discovery 2', '1', '1', 'bemand open', '1 maart 2026', '1'), 159: ('Leemstar', 'Amsterdam Discovery 3', '1', '1', 'bemand gesloten', '1 maart 2026', '1'), 160: ('Leemstar', 'Amsterdam Discovery 4', '1', '1', 'bemand open', '1 maart 2028', '1'), 161: ('Leemstar', 'Leemstar IV', '1', '1', 'bemand open', '1 maart 2030', '1'), 162: ('Leemstar', 'NTB', '1', '1', 'bemand gesloten', '1 maart 2030', '1'), 163: ('Meijer Maritime Services', 'Eventus', '1', '1', 'bemand open', '1 maart 2028', '1'), 164: ('Meijers Rondvaarten B.V.', 'Charles Gounod', '1', '1', 'bemand groot', '1 maart 2024', '1'), 165: ('Meijers Rondvaarten B.V.', 'Dr. Albert Schweitzer', '1', '1', 'bemand groot', '1 maart 2024', '1'), 166: ('Meijers Rondvaarten B.V.', 'Franz Lehar', '1', '1', 'bemand groot', '1 maart 2026', '1'), 167: ('Meijers Rondvaarten B.V.', 'Johan Strauss', '1', '1', 'bemand groot', '1 maart 2024', '1'), 168: ('Meijers Rondvaarten B.V.', 'Ludwig von Beethoven', '1', '1', 'bemand groot', '1 maart 2026', '1'), 169: ('Meijers Rondvaarten B.V.', 'W.A. Mozart', '1', '1', 'bemand groot', '1 maart 2026', '1'), 170: ('Mokumboot B.V.', 'Begijnhof', '1', '1', 'klein & middelgroot', '1 maart 2024', '1'), 171: ('Mokumboot B.V.', 'Fluisterboten', '10', '10', 'onbemand', '1 maart 2028', '1'), 172: ('Mokumboot B.V.', 'Fluisterboten', '10', '10', 'onbemand', '1 maart 2026', '1'), 173: ('Mokumboot B.V.', 'Fluisterboten', '2', '2', 'onbemand', '1 maart 2026', '1'), 174: ('Mokumboot B.V.', 'Fluisterboten', '8', '8', 'onbemand', '1 maart 2024', '1'), 175: ('Mokumboot B.V.', 'Fluisterboten', '10', '10', 'onbemand', '1 maart 2024', '2'), 176: ('Mokumboot B.V.', 'Fluisterboten', '8', '8', 'onbemand', '1 maart 2028', '1'), 177: ('Mokumboot B.V.', 'Fluisterboten', '2', '2', 'onbemand', '1 maart 2028', '1'), 178: ('Mokumboot B.V.', 'Fluisterboten', '8', '8', 'onbemand', '1 maart 2026', '1'), 179: ('Mokumboot B.V.', 'Fluisterboten', '10', '10', 'onbemand', '1 maart 2028', '1'), 180: ('MS \"Koophandel II\"', 'Koophandel II', '1', '1', 'bemand groot', '1 maart 2024', '1'), 181: ('Navarini B.V.', 'Max', '1', '1', 'bemand open', '1 maart 2026', '1'), 182: ('Paradis Private Boat Tours B.V.', 'Belle Epoque', '1', '1', 'bemand groot', '1 maart 2028', '1'), 183: ('Paradis Private Boat Tours B.V.', 'Ivresse', '1', '1', 'bemand gesloten', '1 maart 2026', '1'), 184: ('Paradis Private Boat Tours B.V.', 'Lieve', '1', '1', 'bemand gesloten', '1 maart 2030', '1'), 185: ('Paradis Private Boat Tours B.V.', 'Paradis', '1', '1', 'bemand gesloten', '1 maart 2024', '1'), 186: ('Paradis Private Boat Tours B.V.', 'Stern', '1', '1', 'bemand gesloten', '1 maart 2024', '1'), 187: ('PK Waterbouw B.V.', 'Lelie', '1', '1', 'bemand groot', '1 maart 2030', '1'), 188: ('Plastic Whale B.V.', 'Plastic Whale 550', '10', '10', 'onbemand', '1 maart 2026', '1'), 189: ('Pure Boats B.V.', 'Geertje', '1', '1', 'bemand open', '1 maart 2026', '1'), 190: ('Pure Boats B.V.', 'Lucy', '1', '1', 'bemand gesloten', '1 maart 2026', '1'), 191: ('Pure Boats B.V.', 'Pure Spirit', '1', '1', 'bemand open', '1 maart 2028', '1'), 192: ('Pure Boats B.V.', 'Schollevaar', '1', '1', 'bemand gesloten', '1 maart 2028', '1'), 193: ('Rederij Aemstelland B.V.', 'Elisabeth', '1', '1', 'bemand gesloten', '1 maart 2024', '1'), 194: ('Rederij Aemstelland B.V.', 'Monne de Miranda', '1', '1', 'bemand groot', '1 maart 2030', '1'), 195: ('Rederij Aemstelredamme B.V.', 'Giuliana', '1', '1', 'bemand gesloten', '1 maart 2030', '1'), 196: ('Rederij Amsterdam B.V.', 'Anna Maria', '1', '1', 'bemand groot', '1 maart 2028', '1'), 197: ('Rederij Amsterdam B.V.', 'Bota Fogo', '1', '1', 'bemand groot', '1 maart 2028', '1'), 198: ('Rederij Amsterdam B.V.', 'H.R.H.', '1', '1', 'bemand groot', '1 maart 2026', '1'), 199: ('Rederij Amsterdam B.V.', 'Marie Zurlohe', '1', '1', 'bemand gesloten', '1 maart 2024', '1'), 200: ('Rederij Amsterdam B.V.', 'Ondine', '1', '1', 'bemand groot', '1 maart 2026', '1'), 201: ('Rederij Amsterdam B.V.', 'Roerdomp', '1', '1', 'klein & middelgroot', '1 maart 2024', '1'), 202: ('Rederij Belle B.V.', 'Emma', '1', '1', 'bemand gesloten', '1 maart 2028', '1'), 203: ('Rederij De Jordaan', 'Farahilde', '1', '1', 'bemand gesloten', '1 maart 2026', '1'), 204: ('Rederij De Jordaan', 'Welmoed', '1', '1', 'bemand gesloten', '1 maart 2028', '1'), 205: ('Rederij de Nederlanden B.V.', 'Bredero', '1', '1', 'bemand groot', '1 maart 2028', '1'), 206: ('Rederij de Nederlanden B.V.', 'Hildebrand', '1', '1', 'bemand groot', '1 maart 2028', '1'), 207: ('Rederij de Nederlanden B.V.', 'Jacob van Lennep', '1', '1', 'bemand groot', '1 maart 2026', '1'), 208: ('Rederij de Nederlanden B.V.', 'Multatuli', '1', '1', 'bemand groot', '1 maart 2028', '1'), 209: ('Rederij de Wester', 'AMS1', '1', '1', 'bemand open', '1 maart 2026', '1'), 210: ('Rederij E.E. Plas B.V.', 'Hilda IV', '1', '1', 'bemand groot', '1 maart 2028', '1'), 211: ('Rederij E.E. Plas B.V.', 'Koningin Emma', '1', '1', 'bemand groot', '1 maart 2024', '1'), 212: ('Rederij E.E. Plas B.V.', 'Koningin Wilhelmina', '1', '1', 'bemand groot', '1 maart 2024', '1'), 213: ('Rederij E.E. Plas B.V.', 'Nelson Mandela', '1', '1', 'bemand groot', '1 maart 2028', '1'), 214: ('Rederij E.E. Plas B.V.', 'Pax', '1', '1', 'bemand groot', '1 maart 2030', '1'), 215: ('Rederij E.E. Plas B.V.', 'Prins Hendrik', '1', '1', 'bemand groot', '1 maart 2024', '1'), 216: ('Rederij E.E. Plas B.V.', 'Prins Willem van Oranje', '1', '1', 'bemand groot', '1 maart 2028', '1'), 217: ('Rederij E.E. Plas B.V.', 'Prinses Alexia', '1', '1', 'bemand groot', '1 maart 2026', '1'), 218: ('Rederij E.E. Plas B.V.', 'Prinses Ariane', '1', '1', 'bemand groot', '1 maart 2026', '1'), 219: ('Rederij Friendship B.V.', 'Curacao', '1', '1', 'bemand open', '1 maart 2026', '1'), 220: ('Rederij Friendship B.V.', 'Dyos', '1', '1', 'bemand gesloten', '1 maart 2030', '1'), 221: ('Rederij Friendship B.V.', 'Friendship', '1', '1', 'bemand groot', '1 maart 2030', '1'), 222: ('Rederij Friendship B.V.', 'HAL', '1', '1', 'bemand open', '1 maart 2030', '1'), 223: ('Rederij Friendship B.V.', 'Oceans', '1', '1', 'bemand open', '1 maart 2028', '1'), 224: ('Rederij Friendship B.V.', 'Sunshine', '1', '1', 'bemand open', '1 maart 2028', '1'), 225: ('Rederij Lovers B.V.', 'Aimee', '1', '1', 'bemand groot', '1 maart 2024', '1'), 226: ('Rederij Lovers B.V.', 'André van Duin', '1', '1', 'bemand groot', '1 maart 2030', '1'), 227: ('Rederij Lovers B.V.', 'Athene', '1', '1', 'bemand gesloten', '1 maart 2028', '1'), 228: ('Rederij Lovers B.V.', 'Beau', '1', '1', 'bemand open', '1 maart 2028', '1'), 229: ('Rederij Lovers B.V.', 'Berlin', '1', '1', 'bemand groot', '1 maart 2030', '1'), 230: ('Rederij Lovers B.V.', 'Bern', '1', '1', 'bemand gesloten', '1 maart 2028', '1'), 231: ('Rederij Lovers B.V.', 'Boedapest', '1', '1', 'bemand gesloten', '1 maart 2028', '1'), 232: ('Rederij Lovers B.V.', 'Brussels', '1', '1', 'bemand gesloten', '1 maart 2026', '1'), 233: ('Rederij Lovers B.V.', 'BZN 2', '1', '1', 'bemand groot', '1 maart 2026', '1'), 234: ('Rederij Lovers B.V.', 'BZN 3', '1', '1', 'bemand groot', '1 maart 2026', '1'), 235: ('Rederij Lovers B.V.', 'BZN 4', '1', '1', 'bemand groot', '1 maart 2026', '1'), 236: ('Rederij Lovers B.V.', 'BZN 5', '1', '1', 'bemand groot', '1 maart 2030', '1'), 237: ('Rederij Lovers B.V.', 'BZN 6', '1', '1', 'bemand groot', '1 maart 2030', '1'), 238: ('Rederij Lovers B.V.', 'Copenhagen', '1', '1', 'bemand gesloten', '1 maart 2030', '1'), 239: ('Rederij Lovers B.V.', 'Dublin', '1', '1', 'bemand gesloten', '1 maart 2030', '1'), 240: ('Rederij Lovers B.V.', 'Floating Dutchman', '1', '1', 'bemand groot', '1 maart 2024', '1'), 241: ('Rederij Lovers B.V.', 'Flying Enterprise', '1', '1', 'bemand groot', '1 maart 2026', '1'), 242: ('Rederij Lovers B.V.', 'Helsinki', '1', '1', 'bemand gesloten', '1 maart 2028', '1'), 243: ('Rederij Lovers B.V.', 'Jannes Lovers', '1', '1', 'bemand groot', '1 maart 2026', '1'), 244: ('Rederij Lovers B.V.', 'Lissabon', '1', '1', 'bemand gesloten', '1 maart 2028', '1'), 245: ('Rederij Lovers B.V.', 'London', '1', '1', 'bemand gesloten', '1 maart 2026', '1'), 246: ('Rederij Lovers B.V.', 'Madrid', '1', '1', 'bemand gesloten', '1 maart 2026', '1'), 247: ('Rederij Lovers B.V.', 'Monaco', '1', '1', 'bemand gesloten', '1 maart 2028', '1'), 248: ('Rederij Lovers B.V.', 'Moskou', '1', '1', 'bemand gesloten', '1 maart 2028', '1'), 249: ('Rederij Lovers B.V.', 'Nemo', '1', '1', 'bemand groot', '1 maart 2030', '1'), 250: ('Rederij Lovers B.V.', 'Oslo', '1', '1', 'bemand gesloten', '1 maart 2030', '1'), 251: ('Rederij Lovers B.V.', 'Paris', '1', '1', 'bemand open', '1 maart 2024', '1'), 252: ('Rederij Lovers B.V.', 'Pierre Janssen', '1', '1', 'bemand groot', '1 maart 2028', '1'), 253: ('Rederij Lovers B.V.', 'Rome', '1', '1', 'bemand gesloten', '1 maart 2030', '1'), 254: ('Rederij Lovers B.V.', 'Sevilla', '1', '1', 'bemand gesloten', '1 maart 2024', '1'), 255: ('Rederij Lovers B.V.', 'Shadow', '1', '1', 'bemand open', '1 maart 2028', '1'), 256: ('Rederij Lovers B.V.', 'Simon Carmiggelt', '1', '1', 'bemand groot', '1 maart 2024', '1'), 257: ('Rederij Lovers B.V.', 'Toon Hermans', '1', '1', 'bemand groot', '1 maart 2028', '1'), 258: ('Rederij Lovers B.V.', 'Wien', '1', '1', 'bemand gesloten', '1 maart 2026', '1'), 259: ('Rederij Lovers B.V.', 'Wim Kan', '1', '1', 'bemand groot', '1 maart 2028', '1'), 260: ('Rederij Lovers B.V.', 'Wim Sonneveld', '1', '1', 'bemand groot', '1 maart 2024', '1'), 261: ('Rederij Nassau B.V.', 'Abaco', '1', '1', 'bemand open', '1 maart 2028', '1'), 262: ('Rederij Nassau B.V.', 'Hanneke', '1', '1', 'bemand open', '1 maart 2024', '1'), 263: ('Rederij Nassau B.V.', 'Havana', '1', '1', 'bemand gesloten', '1 maart 2026', '1'), 264: ('Rederij Nassau B.V.', 'Nassau', '1', '1', 'bemand open', '1 maart 2026', '1'), 265: ('Rederij Nassau B.V.', 'Roos', '1', '1', 'bemand gesloten', '1 maart 2028', '1'), 266: ('Rederij Nassau B.V.', 'WM 1', '1', '1', 'bemand gesloten', '1 maart 2026', '1'), 267: ('Rederij P. Kooy B.V.', 'Albert', '1', '1', 'bemand groot', '1 maart 2024', '1'), 268: ('Rederij P. Kooy B.V.', 'Albert Pieter', '1', '1', 'bemand groot', '1 maart 2030', '1'), 269: ('Rederij P. Kooy B.V.', 'Folke Bernadotte', '1', '1', 'bemand groot', '1 maart 2028', '1'), 270: ('Rederij P. Kooy B.V.', 'Frans Hals', '1', '1', 'bemand groot', '1 maart 2026', '1'), 271: ('Rederij P. Kooy B.V.', 'Frederik Albert Pieter', '1', '1', 'bemand groot', '1 maart 2024', '1'), 272: ('Rederij P. Kooy B.V.', 'Gerarda Johanna', '1', '1', 'bemand groot', '1 maart 2024', '1'), 273: ('Rederij P. Kooy B.V.', 'Jan Steen', '1', '1', 'bemand groot', '1 maart 2028', '1'), 274: ('Rederij P. Kooy B.V.', 'Koning Willem Alexander', '1', '1', 'bemand groot', '1 maart 2026', '1'), 275: ('Rederij P. Kooy B.V.', 'Koningin Fabiola', '1', '1', 'bemand groot', '1 maart 2026', '1'), 276: ('Rederij P. Kooy B.V.', 'Koningin Juliana', '1', '1', 'bemand groot', '1 maart 2028', '1'), 277: ('Rederij P. Kooy B.V.', 'Koningin Maxima', '1', '1', 'bemand groot', '1 maart 2026', '1'), 278: ('Rederij P. Kooy B.V.', 'Pieter', '1', '1', 'bemand groot', '1 maart 2024', '1'), 279: ('Rederij P. Kooy B.V.', 'President J.F. Kennedy', '1', '1', 'bemand groot', '1 maart 2030', '1'), 280: ('Rederij P. Kooy B.V.', 'Prins Bernhard', '1', '1', 'bemand groot', '1 maart 2030', '1'), 281: ('Rederij P. Kooy B.V.', 'Prins Constantijn', '1', '1', 'bemand groot', '1 maart 2024', '1'), 282: ('Rederij P. Kooy B.V.', 'Prins Johan Friso', '1', '1', 'bemand groot', '1 maart 2030', '1'), 283: ('Rederij P. Kooy B.V.', 'Prinses Beatrix', '1', '1', 'bemand groot', '1 maart 2028', '1'), 284: ('Rederij P. Kooy B.V.', 'Prinses Catharina Amalia', '1', '1', 'bemand groot', '1 maart 2028', '1'), 285: ('Rederij P. Kooy B.V.', 'Prinses Christina', '1', '1', 'bemand groot', '1 maart 2026', '1'), 286: ('Rederij P. Kooy B.V.', 'Prinses Irene', '1', '1', 'bemand groot', '1 maart 2030', '1'), 287: ('Rederij P. Kooy B.V.', 'Prinses Margriet', '1', '1', 'bemand groot', '1 maart 2028', '1'), 288: ('Rederij Paping', 'Blue in Green', '1', '1', 'bemand open', '1 maart 2024', '1'), 289: ('Rederij Paping', 'Gordita', '1', '1', 'bemand open', '1 maart 2028', '1'), 290: ('Rederij van Egmond', 'Mr. Grey', '1', '1', 'bemand gesloten', '1 maart 2030', '1'), 291: ('Rederij Vlaun', 'Old Queen', '1', '1', 'bemand groot', '1 maart 2024', '1'), 292: ('Rederij Voogd B.V.', 'Pipka', '1', '1', 'bemand open', '1 maart 2028', '1'), 293: ('Rock That Boat', 'Liverpool', '1', '1', 'bemand open', '1 maart 2024', '2'), 294: ('Sailtye', 'Salute', '1', '1', 'bemand open', '1 maart 2028', '1'), 295: ('Sailtye', 'Style', '1', '1', 'bemand open', '1 maart 2024', '1'), 296: ('Salonboot Adeline B.V.', 'Adeline', '1', '1', 'bemand groot', '1 maart 2026', '1'), 297: ('Salonboot Belle van Zuylen B.V.', 'Belle van Zuylen', '1', '1', 'bemand groot', '1 maart 2026', '1'), 298: ('Salonboot Dame van Amstel B.V.', 'Dame van Amstel', '1', '1', 'bemand groot', '1 maart 2030', '1'), 299: ('Salonboot Hilda', 'Hilda', '1', '1', 'bemand groot', '1 maart 2028', '1'), 300: ('Salonboot Soeverein B.V.', 'Soeverein', '1', '1', 'bemand groot', '1 maart 2024', '1'), 301: ('Salonboot Valentijn B.V.', 'Valentijn', '1', '1', 'bemand gesloten', '1 maart 2024', '1'), 302: ('Sinta B.V.', 'Sinta', '1', '1', 'bemand open', '1 maart 2026', '1'), 303: ('Sinta B.V.', 'Sinta 2', '1', '1', 'bemand open', '1 maart 2024', '2'), 304: ('Sloepdelen B.V.', 'Fluisterboten', '10', '10', 'onbemand', '1 maart 2024', '1'), 305: ('Sloepdelen B.V.', 'Fluisterboten', '10', '10', 'onbemand', '1 maart 2026', '1'), 306: ('Sloepdelen B.V.', 'Fluisterboten', '10', '10', 'onbemand', '1 maart 2028', '1'), 307: ('Sloepvrienden', 'Sarah', '1', '1', 'bemand gesloten', '1 maart 2030', '1'), 308: ('Sloepvrienden', 'Simon', '1', '1', 'bemand open', '1 maart 2028', '1'), 309: ('Sloepvrienden', 'Sofia', '1', '1', 'bemand gesloten', '1 maart 2026', '1'), 310: ('Sloepvrienden', 'Solar', '1', '1', 'bemand open', '1 maart 2024', '1'), 311: ('Smidtje Beheer B.V.', 'Churchill', '1', '1', 'klein & middelgroot', '1 maart 2024', '1'), 312: ('Smidtje Beheer B.V.', 'City Tender Couperus', '1', '1', 'bemand groot', '1 maart 2030', '1'), 313: ('Smidtje Beheer B.V.', 'City Tender Vondel', '1', '1', 'bemand groot', '1 maart 2026', '1'), 314: ('Smidtje Beheer B.V.', 'De Liefde', '1', '1', 'bemand gesloten', '1 maart 2026', '1'), 315: ('Smidtje Beheer B.V.', 'Frans van Mieris', '1', '1', 'bemand groot', '1 maart 2030', '1'), 316: ('Smidtje Beheer B.V.', 'James Bond', '1', '1', 'bemand gesloten', '1 maart 2024', '1'), 317: ('Smidtje Beheer B.V.', 'Jan Luijken', '1', '1', 'bemand groot', '1 maart 2030', '1'), 318: ('Smidtje Beheer B.V.', 'Mona Lisa', '1', '1', 'bemand gesloten', '1 maart 2028', '1'), 319: ('Smidtje Beheer B.V.', 'Rinske', '1', '1', 'bemand groot', '1 maart 2026', '1'), 320: ('Smidtje Beheer B.V.', 'Roosevelt', '1', '1', 'bemand gesloten', '1 maart 2030', '1'), 321: ('Smidtje Beheer B.V.', 't Smidtje', '1', '1', 'bemand groot', '1 maart 2030', '1'), 322: ('Smidtje Beheer B.V.', 'Terra Nova', '1', '1', 'bemand gesloten', '1 maart 2026', '1'), 323: ('Smidtje Beheer B.V.', 'Wilhelmus', '1', '1', 'bemand groot', '1 maart 2028', '1'), 324: ('Smidtje Exploitatie B.V.', 'Cornelis Schuyt', '1', '1', 'bemand groot', '1 maart 2028', '1'), 325: ('Smidtje Exploitatie B.V.', 'Da Vinci', '1', '1', 'bemand groot', '1 maart 2024', '1'), 326: ('Smidtje Exploitatie B.V.', 'Gaudi', '1', '1', 'bemand groot', '1 maart 2024', '1'), 327: ('Smidtje Exploitatie B.V.', 'Henri Matisse', '1', '1', 'bemand groot', '1 maart 2024', '1'), 328: ('Smidtje Exploitatie B.V.', 'Michelangelo', '1', '1', 'bemand groot', '1 maart 2026', '1'), 329: ('Smidtje Exploitatie B.V.', 'Mon Ami', '1', '1', 'bemand open', '1 maart 2026', '1'), 330: ('Smidtje Exploitatie B.V.', 'Nicolaas Maes', '1', '1', 'bemand groot', '1 maart 2028', '1'), 331: ('Smidtje Exploitatie B.V.', 'P.C. Hooft', '1', '1', 'bemand groot', '1 maart 2028', '1'), 332: ('Smidtje Exploitatie B.V.', 'Rijk de Gooyer', '1', '1', 'bemand open', '1 maart 2024', '1'), 333: ('Smidtje Holding B.V.', 'Drukwerk', '1', '1', 'bemand groot', '1 maart 2024', '1'), 334: ('Starboard Boats B.V.', 'Batavia VOC', '1', '1', 'bemand open', '1 maart 2030', '1'), 335: ('Starboard Boats B.V.', 'De Manke Monnik', '1', '1', 'bemand open', '1 maart 2028', '1'), 336: ('Starboard Boats B.V.', 'Energie', '1', '1', 'klein & middelgroot', 'n.v.t.', '2'), 337: ('Starboard Boats B.V.', 'Geest van Helena', '1', '1', 'bemand open', '1 maart 2030', '1'), 338: ('Starboard Boats B.V.', 'Willem de Zwijger', '1', '1', 'klein & middelgroot', '1 maart 2030', '1'), 339: ('Stichting “de Kalefater”', 'Najade', '1', '1', 'bemand gesloten', '1 maart 2024', '1'), 340: ('Stichting “de Kalefater”', 'Proost van St. Jan', '1', '1', 'bemand groot', '1 maart 2026', '1'), 341: ('Stichting Behoud Salonboot Avanti', 'Avanti', '1', '1', 'bemand groot', '1 maart 2030', '1'), 342: ('Stichting Maritieme Zaken', 'De Eeuw', '1', '1', 'bemand gesloten', '1 maart 2028', '1'), 343: ('Stichting Motorschip Jonckvrouw', 'De Jonckvrouw', '1', '1', 'bemand gesloten', '1 maart 2026', '1'), 344: ('Stichting Plastic Whale', 'Plastic Whale 600', '1', '1', 'bemand open', '1 maart 2026', '1'), 345: ('Stromma Nederland B.V.', 'A. Van Eijk', '1', '1', 'bemand open', '1 maart 2026', '1'), 346: ('Stromma Nederland B.V.', 'Amstel', '1', '1', 'bemand gesloten', '1 maart 2024', '1'), 347: ('Stromma Nederland B.V.', 'André Hazes', '1', '1', 'bemand open', '1 maart 2028', '1'), 348: ('Stromma Nederland B.V.', 'Breitner', '1', '1', 'bemand groot', '1 maart 2028', '1'), 349: ('Stromma Nederland B.V.', 'Corneille', '1', '1', 'bemand groot', '1 maart 2026', '1'), 350: ('Stromma Nederland B.V.', 'Daniel Stalpaert', '1', '1', 'bemand gesloten', '1 maart 2030', '1'), 351: ('Stromma Nederland B.V.', 'F. Van Dongen', '1', '1', 'bemand open', '1 maart 2024', '1'), 352: ('Stromma Nederland B.V.', 'Ferdinand Bol', '1', '1', 'bemand groot', '1 maart 2028', '1'), 353: ('Stromma Nederland B.V.', 'H. Hertzberger', '1', '1', 'bemand open', '1 maart 2026', '1'), 354: ('Stromma Nederland B.V.', 'H.P. Berlage', '1', '1', 'bemand open', '1 maart 2026', '1'), 355: ('Stromma Nederland B.V.', 'Hendrick de Keyser', '1', '1', 'bemand gesloten', '1 maart 2030', '1'), 356: ('Stromma Nederland B.V.', 'J. Coenen', '1', '1', 'bemand open', '1 maart 2028', '1'), 357: ('Stromma Nederland B.V.', 'J.F. Staal', '1', '1', 'bemand open', '1 maart 2024', '1'), 358: ('Stromma Nederland B.V.', 'J.H. Mulder', '1', '1', 'bemand open', '1 maart 2024', '1'), 359: ('Stromma Nederland B.V.', 'Jacob van Ruysdael', '1', '1', 'bemand groot', '1 maart 2030', '1'), 360: ('Stromma Nederland B.V.', 'Jeroen Krabbé', '1', '1', 'bemand groot', '1 maart 2028', '1'), 361: ('Stromma Nederland B.V.', 'Josephine', '1', '1', 'bemand open', '1 maart 2028', '1'), 362: ('Stromma Nederland B.V.', 'Judith Leyster', '1', '1', 'bemand groot', '1 maart 2028', '1'), 363: ('Stromma Nederland B.V.', 'M. de Klerk', '1', '1', 'bemand open', '1 maart 2028', '1'), 364: ('Stromma Nederland B.V.', 'M.C. Escher', '1', '1', 'bemand groot', '1 maart 2026', '1'), 365: ('Stromma Nederland B.V.', 'Mondriaan', '1', '1', 'bemand groot', '1 maart 2028', '1'), 366: ('Stromma Nederland B.V.', 'Oboot', '1', '1', 'bemand open', '1 maart 2028', '1'), 367: ('Stromma Nederland B.V.', 'P. Vingboons', '1', '1', 'bemand open', '1 maart 2024', '1'), 368: ('Stromma Nederland B.V.', 'Rembrandt', '1', '1', 'bemand groot', '1 maart 2028', '1'), 369: ('Stromma Nederland B.V.', 'Van Gogh', '1', '1', 'bemand groot', '1 maart 2026', '1'), 370: ('Those Dam Boat Guys', 'Jackson 1', '1', '1', 'bemand open', '1 maart 2030', '1'), 371: ('Those Dam Boat Guys', 'Jackson 2', '1', '1', 'bemand open', '1 maart 2030', '1'), 372: ('Those Dam Boat Guys', 'Jackson 3', '1', '1', 'bemand open', '1 maart 2030', '1'), 373: ('Those Dam Boat Guys', 'Jackson 4', '1', '1', 'bemand open', '1 maart 2030', '1'), 374: ('Those Dam Boat Guys', 'Jackson 5', '1', '1', 'bemand open', '1 maart 2030', '1'), 375: ('Tulpa Tours B.V.', 'Andante', '1', '1', 'bemand gesloten', '1 maart 2028', '1'), 376: ('Tulpa Tours B.V.', 'Bennie Jolink', '1', '1', 'bemand gesloten', '1 maart 2026', '1'), 377: ('Tulpa Tours B.V.', 'Buggy', '1', '1', 'bemand gesloten', '1 maart 2026', '1'), 378: ('Van Hulst Registergoederen B.V.', 'Stan Huygens', '1', '1', 'bemand groot', '1 maart 2030', '1'), 379: ('Van Hulst Registergoederen B.V.', 'The Rose', '1', '1', 'klein & middelgroot', '1 maart 2026', '1'), 380: ('Van Hulst Registergoederen B.V.', 'The Tulip', '1', '1', 'klein & middelgroot', '1 maart 2026', '1'), 381: ('Canal Company B.V.', '100 waterfietsen', '100', '100', 'waterfietsen', 'n.v.t.', '1')}\n"
     ]
    }
   ],
   "source": [
    "from itertools import zip_longest\n",
    "\n",
    "canalboatsdic = {\n",
    "    row[0]: row[1:]\n",
    "    for row in zip_longest(l2,\n",
    "                            operators,\n",
    "                            naam,\n",
    "                            aantal,\n",
    "                            aantalgebruik,\n",
    "                            segment,\n",
    "                            einddatum,\n",
    "                            gebied)\n",
    "}\n",
    "\n",
    "print(canalboatsdic)"
   ]
  },
  {
   "cell_type": "code",
   "execution_count": 7,
   "metadata": {},
   "outputs": [
    {
     "name": "stdout",
     "output_type": "stream",
     "text": [
      "                    Vergunninghouder          Naam vaartuig(en)  \\\n",
      "1                  Adam's Boats B.V.        Adam 01 t/m Adam 10   \n",
      "2           Ambolux Classic Ecoboats                  Ambolux 3   \n",
      "3      Amsterdam Boat Adventures vof  Amsterdam Boat Adventures   \n",
      "4              Amsterdam Boat Center                      Amigo   \n",
      "5              Amsterdam Boat Center             Salonboot Tzar   \n",
      "..                               ...                        ...   \n",
      "377                 Tulpa Tours B.V.                      Buggy   \n",
      "378  Van Hulst Registergoederen B.V.               Stan Huygens   \n",
      "379  Van Hulst Registergoederen B.V.                   The Rose   \n",
      "380  Van Hulst Registergoederen B.V.                  The Tulip   \n",
      "381               Canal Company B.V.           100 waterfietsen   \n",
      "\n",
      "    Aantal vergunde vaartuigen Waarvan in gebruik genomen  \\\n",
      "1                           10                         10   \n",
      "2                            1                          1   \n",
      "3                            1                          1   \n",
      "4                            1                          1   \n",
      "5                            1                          1   \n",
      "..                         ...                        ...   \n",
      "377                          1                          1   \n",
      "378                          1                          1   \n",
      "379                          1                          1   \n",
      "380                          1                          1   \n",
      "381                        100                        100   \n",
      "\n",
      "                 Segment     Einddatum Gebied  \n",
      "1               onbemand  1 maart 2026      1  \n",
      "2            bemand open  1 maart 2030      1  \n",
      "3            bemand open  1 maart 2028      1  \n",
      "4            bemand open  1 maart 2024      1  \n",
      "5            bemand open  1 maart 2028      1  \n",
      "..                   ...           ...    ...  \n",
      "377      bemand gesloten  1 maart 2026      1  \n",
      "378         bemand groot  1 maart 2030      1  \n",
      "379  klein & middelgroot  1 maart 2026      1  \n",
      "380  klein & middelgroot  1 maart 2026      1  \n",
      "381         waterfietsen        n.v.t.      1  \n",
      "\n",
      "[381 rows x 7 columns]\n"
     ]
    },
    {
     "ename": "ModuleNotFoundError",
     "evalue": "No module named 'openpyxl'",
     "output_type": "error",
     "traceback": [
      "\u001b[1;31m---------------------------------------------------------------------------\u001b[0m",
      "\u001b[1;31mModuleNotFoundError\u001b[0m                       Traceback (most recent call last)",
      "\u001b[1;32mc:\\Users\\quent\\OneDrive\\Documents\\GitHub\\data_group_9\\Assignment 2.ipynb Cell 4\u001b[0m line \u001b[0;36m9\n\u001b[0;32m      <a href='vscode-notebook-cell:/c%3A/Users/quent/OneDrive/Documents/GitHub/data_group_9/Assignment%202.ipynb#W3sZmlsZQ%3D%3D?line=5'>6</a>\u001b[0m df\u001b[39m.\u001b[39mrename(columns\u001b[39m=\u001b[39m{\u001b[39m0\u001b[39m: \u001b[39m\"\u001b[39m\u001b[39mVergunninghouder\u001b[39m\u001b[39m\"\u001b[39m, \u001b[39m1\u001b[39m: \u001b[39m\"\u001b[39m\u001b[39mNaam vaartuig(en)\u001b[39m\u001b[39m\"\u001b[39m, \u001b[39m2\u001b[39m: \u001b[39m\"\u001b[39m\u001b[39mAantal vergunde vaartuigen\u001b[39m\u001b[39m\"\u001b[39m, \u001b[39m3\u001b[39m: \u001b[39m\"\u001b[39m\u001b[39mWaarvan in gebruik genomen\u001b[39m\u001b[39m\"\u001b[39m, \u001b[39m4\u001b[39m: \u001b[39m\"\u001b[39m\u001b[39mSegment\u001b[39m\u001b[39m\"\u001b[39m, \u001b[39m5\u001b[39m: \u001b[39m\"\u001b[39m\u001b[39mEinddatum\u001b[39m\u001b[39m\"\u001b[39m, \u001b[39m6\u001b[39m: \u001b[39m\"\u001b[39m\u001b[39mGebied\u001b[39m\u001b[39m\"\u001b[39m  }, inplace\u001b[39m=\u001b[39m\u001b[39mTrue\u001b[39;00m)\n\u001b[0;32m      <a href='vscode-notebook-cell:/c%3A/Users/quent/OneDrive/Documents/GitHub/data_group_9/Assignment%202.ipynb#W3sZmlsZQ%3D%3D?line=7'>8</a>\u001b[0m \u001b[39mprint\u001b[39m (df)\n\u001b[1;32m----> <a href='vscode-notebook-cell:/c%3A/Users/quent/OneDrive/Documents/GitHub/data_group_9/Assignment%202.ipynb#W3sZmlsZQ%3D%3D?line=8'>9</a>\u001b[0m df\u001b[39m.\u001b[39;49mto_excel(\u001b[39m'\u001b[39;49m\u001b[39moutput-1.xlsx\u001b[39;49m\u001b[39m'\u001b[39;49m)\n",
      "File \u001b[1;32mc:\\Users\\quent\\AppData\\Local\\Programs\\Python\\Python311\\Lib\\site-packages\\pandas\\core\\generic.py:2345\u001b[0m, in \u001b[0;36mNDFrame.to_excel\u001b[1;34m(self, excel_writer, sheet_name, na_rep, float_format, columns, header, index, index_label, startrow, startcol, engine, merge_cells, inf_rep, freeze_panes, storage_options, engine_kwargs)\u001b[0m\n\u001b[0;32m   2332\u001b[0m \u001b[39mfrom\u001b[39;00m \u001b[39mpandas\u001b[39;00m\u001b[39m.\u001b[39;00m\u001b[39mio\u001b[39;00m\u001b[39m.\u001b[39;00m\u001b[39mformats\u001b[39;00m\u001b[39m.\u001b[39;00m\u001b[39mexcel\u001b[39;00m \u001b[39mimport\u001b[39;00m ExcelFormatter\n\u001b[0;32m   2334\u001b[0m formatter \u001b[39m=\u001b[39m ExcelFormatter(\n\u001b[0;32m   2335\u001b[0m     df,\n\u001b[0;32m   2336\u001b[0m     na_rep\u001b[39m=\u001b[39mna_rep,\n\u001b[1;32m   (...)\u001b[0m\n\u001b[0;32m   2343\u001b[0m     inf_rep\u001b[39m=\u001b[39minf_rep,\n\u001b[0;32m   2344\u001b[0m )\n\u001b[1;32m-> 2345\u001b[0m formatter\u001b[39m.\u001b[39;49mwrite(\n\u001b[0;32m   2346\u001b[0m     excel_writer,\n\u001b[0;32m   2347\u001b[0m     sheet_name\u001b[39m=\u001b[39;49msheet_name,\n\u001b[0;32m   2348\u001b[0m     startrow\u001b[39m=\u001b[39;49mstartrow,\n\u001b[0;32m   2349\u001b[0m     startcol\u001b[39m=\u001b[39;49mstartcol,\n\u001b[0;32m   2350\u001b[0m     freeze_panes\u001b[39m=\u001b[39;49mfreeze_panes,\n\u001b[0;32m   2351\u001b[0m     engine\u001b[39m=\u001b[39;49mengine,\n\u001b[0;32m   2352\u001b[0m     storage_options\u001b[39m=\u001b[39;49mstorage_options,\n\u001b[0;32m   2353\u001b[0m     engine_kwargs\u001b[39m=\u001b[39;49mengine_kwargs,\n\u001b[0;32m   2354\u001b[0m )\n",
      "File \u001b[1;32mc:\\Users\\quent\\AppData\\Local\\Programs\\Python\\Python311\\Lib\\site-packages\\pandas\\io\\formats\\excel.py:946\u001b[0m, in \u001b[0;36mExcelFormatter.write\u001b[1;34m(self, writer, sheet_name, startrow, startcol, freeze_panes, engine, storage_options, engine_kwargs)\u001b[0m\n\u001b[0;32m    942\u001b[0m     need_save \u001b[39m=\u001b[39m \u001b[39mFalse\u001b[39;00m\n\u001b[0;32m    943\u001b[0m \u001b[39melse\u001b[39;00m:\n\u001b[0;32m    944\u001b[0m     \u001b[39m# error: Cannot instantiate abstract class 'ExcelWriter' with abstract\u001b[39;00m\n\u001b[0;32m    945\u001b[0m     \u001b[39m# attributes 'engine', 'save', 'supported_extensions' and 'write_cells'\u001b[39;00m\n\u001b[1;32m--> 946\u001b[0m     writer \u001b[39m=\u001b[39m ExcelWriter(  \u001b[39m# type: ignore[abstract]\u001b[39;49;00m\n\u001b[0;32m    947\u001b[0m         writer,\n\u001b[0;32m    948\u001b[0m         engine\u001b[39m=\u001b[39;49mengine,\n\u001b[0;32m    949\u001b[0m         storage_options\u001b[39m=\u001b[39;49mstorage_options,\n\u001b[0;32m    950\u001b[0m         engine_kwargs\u001b[39m=\u001b[39;49mengine_kwargs,\n\u001b[0;32m    951\u001b[0m     )\n\u001b[0;32m    952\u001b[0m     need_save \u001b[39m=\u001b[39m \u001b[39mTrue\u001b[39;00m\n\u001b[0;32m    954\u001b[0m \u001b[39mtry\u001b[39;00m:\n",
      "File \u001b[1;32mc:\\Users\\quent\\AppData\\Local\\Programs\\Python\\Python311\\Lib\\site-packages\\pandas\\io\\excel\\_openpyxl.py:57\u001b[0m, in \u001b[0;36mOpenpyxlWriter.__init__\u001b[1;34m(self, path, engine, date_format, datetime_format, mode, storage_options, if_sheet_exists, engine_kwargs, **kwargs)\u001b[0m\n\u001b[0;32m     44\u001b[0m \u001b[39mdef\u001b[39;00m \u001b[39m__init__\u001b[39m(\n\u001b[0;32m     45\u001b[0m     \u001b[39mself\u001b[39m,\n\u001b[0;32m     46\u001b[0m     path: FilePath \u001b[39m|\u001b[39m WriteExcelBuffer \u001b[39m|\u001b[39m ExcelWriter,\n\u001b[1;32m   (...)\u001b[0m\n\u001b[0;32m     55\u001b[0m ) \u001b[39m-\u001b[39m\u001b[39m>\u001b[39m \u001b[39mNone\u001b[39;00m:\n\u001b[0;32m     56\u001b[0m     \u001b[39m# Use the openpyxl module as the Excel writer.\u001b[39;00m\n\u001b[1;32m---> 57\u001b[0m     \u001b[39mfrom\u001b[39;00m \u001b[39mopenpyxl\u001b[39;00m\u001b[39m.\u001b[39;00m\u001b[39mworkbook\u001b[39;00m \u001b[39mimport\u001b[39;00m Workbook\n\u001b[0;32m     59\u001b[0m     engine_kwargs \u001b[39m=\u001b[39m combine_kwargs(engine_kwargs, kwargs)\n\u001b[0;32m     61\u001b[0m     \u001b[39msuper\u001b[39m()\u001b[39m.\u001b[39m\u001b[39m__init__\u001b[39m(\n\u001b[0;32m     62\u001b[0m         path,\n\u001b[0;32m     63\u001b[0m         mode\u001b[39m=\u001b[39mmode,\n\u001b[1;32m   (...)\u001b[0m\n\u001b[0;32m     66\u001b[0m         engine_kwargs\u001b[39m=\u001b[39mengine_kwargs,\n\u001b[0;32m     67\u001b[0m     )\n",
      "\u001b[1;31mModuleNotFoundError\u001b[0m: No module named 'openpyxl'"
     ]
    }
   ],
   "source": [
    "import pandas as pd\n",
    "\n",
    "df = pd.DataFrame(data=canalboatsdic)\n",
    "\n",
    "df = (df.T)\n",
    "df.rename(columns={0: \"Vergunninghouder\", 1: \"Naam vaartuig(en)\", 2: \"Aantal vergunde vaartuigen\", 3: \"Waarvan in gebruik genomen\", 4: \"Segment\", 5: \"Einddatum\", 6: \"Gebied\"  }, inplace=True)\n",
    "\n",
    "print (df)\n",
    "df.to_excel('output-1.xlsx')"
   ]
  },
  {
   "cell_type": "code",
   "execution_count": null,
   "metadata": {},
   "outputs": [],
   "source": [
    "df2 = df[df[\"Segment\"]==\"bemand groot\"]\n",
    "df2[\"aantal_int\"] = pd.to_numeric(df2[\"Waarvan in gebruik genomen\"])\n",
    "aantal_rondvaartboten = sum(df2[\"aantal_int\"])\n",
    "#print(df2)\n",
    "#df2.to_excel('output-2.xlsx')"
   ]
  },
  {
   "cell_type": "code",
   "execution_count": null,
   "metadata": {},
   "outputs": [
    {
     "name": "stdout",
     "output_type": "stream",
     "text": [
      "Het totaal aantal rondvaartboten is 145\n"
     ]
    }
   ],
   "source": [
    "print(\"Het totaal aantal rondvaartboten is\", aantal_rondvaartboten)\n"
   ]
  },
  {
   "cell_type": "code",
   "execution_count": 8,
   "metadata": {},
   "outputs": [
    {
     "ename": "ModuleNotFoundError",
     "evalue": "No module named 'tabula'",
     "output_type": "error",
     "traceback": [
      "\u001b[1;31m---------------------------------------------------------------------------\u001b[0m",
      "\u001b[1;31mModuleNotFoundError\u001b[0m                       Traceback (most recent call last)",
      "\u001b[1;32mc:\\Users\\quent\\OneDrive\\Documents\\GitHub\\data_group_9\\Assignment 2.ipynb Cell 7\u001b[0m line \u001b[0;36m1\n\u001b[1;32m----> <a href='vscode-notebook-cell:/c%3A/Users/quent/OneDrive/Documents/GitHub/data_group_9/Assignment%202.ipynb#W6sZmlsZQ%3D%3D?line=0'>1</a>\u001b[0m \u001b[39mimport\u001b[39;00m \u001b[39mtabula\u001b[39;00m \n\u001b[0;32m      <a href='vscode-notebook-cell:/c%3A/Users/quent/OneDrive/Documents/GitHub/data_group_9/Assignment%202.ipynb#W6sZmlsZQ%3D%3D?line=1'>2</a>\u001b[0m \u001b[39m#reads table from pdf file\u001b[39;00m\n\u001b[0;32m      <a href='vscode-notebook-cell:/c%3A/Users/quent/OneDrive/Documents/GitHub/data_group_9/Assignment%202.ipynb#W6sZmlsZQ%3D%3D?line=2'>3</a>\u001b[0m \u001b[39m# Read pdf into list of DataFrame\u001b[39;00m\n\u001b[0;32m      <a href='vscode-notebook-cell:/c%3A/Users/quent/OneDrive/Documents/GitHub/data_group_9/Assignment%202.ipynb#W6sZmlsZQ%3D%3D?line=3'>4</a>\u001b[0m dfpdf \u001b[39m=\u001b[39m tabula\u001b[39m.\u001b[39mread_pdf(\u001b[39m\"\u001b[39m\u001b[39mTNO_rapport.pdf\u001b[39m\u001b[39m\"\u001b[39m, pages\u001b[39m=\u001b[39m\u001b[39m'\u001b[39m\u001b[39m19\u001b[39m\u001b[39m'\u001b[39m)\n",
      "\u001b[1;31mModuleNotFoundError\u001b[0m: No module named 'tabula'"
     ]
    }
   ],
   "source": [
    "import tabula \n",
    "#reads table from pdf file\n",
    "# Read pdf into list of DataFrame\n",
    "dfpdf = tabula.read_pdf(\"TNO_rapport.pdf\", pages='19')\n",
    "#print(dfpdf)\n",
    "#print(dfpdf[0].columns.values)\n",
    "energieverbruikuur = dfpdf[0]['Gemiddeld\\renergiegebruik\\rper uur [kWh]'][0] #    nog verbeteren\n",
    "energieverbruikuur = energieverbruikuur.replace(',', '.')\n",
    "\n",
    "\n",
    "aantal_rondvaartboten = float(aantal_rondvaartboten)\n",
    "energieverbruikuur = float(energieverbruikuur)\n",
    "\n",
    "energy_demand_uur = aantal_rondvaartboten*energieverbruikuur\n",
    "print(\"The energy demand for all canal boat per hour is\", energy_demand_uur, \"KWh\")\n",
    "print(\"The average canal boat operates 3000 hours a year. This results in a total energy demand of\", energy_demand_uur*300, \"KWh per year\")\n",
    "\n",
    "\n",
    "\n"
   ]
  },
  {
   "cell_type": "code",
   "execution_count": null,
   "metadata": {},
   "outputs": [],
   "source": []
  }
 ],
 "metadata": {
  "kernelspec": {
   "display_name": "Python 3",
   "language": "python",
   "name": "python3"
  },
  "language_info": {
   "codemirror_mode": {
    "name": "ipython",
    "version": 3
   },
   "file_extension": ".py",
   "mimetype": "text/x-python",
   "name": "python",
   "nbconvert_exporter": "python",
   "pygments_lexer": "ipython3",
   "version": "3.11.5"
  },
  "orig_nbformat": 4
 },
 "nbformat": 4,
 "nbformat_minor": 2
}
